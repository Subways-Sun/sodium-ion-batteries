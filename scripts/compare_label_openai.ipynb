{
 "cells": [
  {
   "cell_type": "code",
   "execution_count": null,
   "id": "20062347",
   "metadata": {},
   "outputs": [],
   "source": [
    "from sib.literature.lit_processing import read_json\n",
    "\n",
    "file1 = r\"C:\\Users\\Subways-Sun\\OneDrive\\Documents\\GitHub\\sodium-ion-batteries\\data_annotated\\search_20241106-223705_noirrelevant_openai_v1.json\"\n",
    "file2 = r\"C:\\Users\\Subways-Sun\\OneDrive\\Documents\\GitHub\\sodium-ion-batteries\\data_annotated\\search_20241106-223705_noirrelevant_openai_v2.json\"\n",
    "file3 = r\"C:\\Users\\Subways-Sun\\OneDrive\\Documents\\GitHub\\sodium-ion-batteries\\data_annotated\\search_20241106-223705_noirrelevant_openai_v3.json\"\n",
    "file4 = r\"C:\\Users\\Subways-Sun\\OneDrive\\Documents\\GitHub\\sodium-ion-batteries\\data_annotated\\search_20241106-223705_noirrelevant_openai_v4.json\"\n",
    "\n",
    "data1 = read_json(file1)\n",
    "data2 = read_json(file2)\n",
    "data3 = read_json(file3)\n",
    "data4 = read_json(file4)"
   ]
  },
  {
   "cell_type": "code",
   "execution_count": null,
   "id": "4ac31bb1",
   "metadata": {},
   "outputs": [],
   "source": []
  }
 ],
 "metadata": {
  "language_info": {
   "name": "python"
  }
 },
 "nbformat": 4,
 "nbformat_minor": 5
}
